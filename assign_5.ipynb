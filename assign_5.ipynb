{
 "cells": [
  {
   "cell_type": "markdown",
   "metadata": {},
   "source": [
    "## License \n",
    "\n",
    "Copyright 2021 Patrick Hall (jphall@gwu.edu)\n"
   ]
  },
  {
   "cell_type": "markdown",
   "metadata": {},
   "source": [
    "# Assignment 5\n",
    "# Jaime Sarmiento, Youssef Ragab, Garrett Hastings, Ting Huang"
   ]
  },
  {
   "cell_type": "markdown",
   "metadata": {},
   "source": [
    "#### Imports and inits"
   ]
  },
  {
   "cell_type": "code",
   "execution_count": 1,
   "metadata": {
    "scrolled": true
   },
   "outputs": [],
   "source": [
    "from interpret.glassbox import ExplainableBoostingClassifier      # interpret ebm class\n",
    "from interpret.perf import ROC                                    # ROC measure for ebm\n",
    "import numpy as np                                                # for basic array manipulation                            \n",
    "import pandas as pd                                               # for dataframe manipulation\n",
    "import time                                                       # for timers\n",
    "\n",
    "# plotting functionality\n",
    "import matplotlib.pyplot as plt\n",
    "from matplotlib.lines import Line2D # necessary for custom legends\n",
    "\n",
    "# display plots in notebook\n",
    "%matplotlib inline\n",
    "\n",
    "# set numpy random seed for better reproducibility\n",
    "SEED = 12345 \n",
    "np.random.seed(SEED)\n",
    "\n",
    "# set number of threads\n",
    "NTHREAD = 4"
   ]
  },
  {
   "cell_type": "markdown",
   "metadata": {},
   "source": [
    "#### Start global timer"
   ]
  },
  {
   "cell_type": "code",
   "execution_count": 2,
   "metadata": {},
   "outputs": [],
   "source": [
    "tic = time.time()"
   ]
  },
  {
   "cell_type": "markdown",
   "metadata": {},
   "source": [
    "#### Import data"
   ]
  },
  {
   "cell_type": "code",
   "execution_count": 3,
   "metadata": {},
   "outputs": [],
   "source": [
    "data = pd.read_csv('hmda_train_preprocessed.csv')"
   ]
  },
  {
   "cell_type": "markdown",
   "metadata": {},
   "source": [
    "#### Assign basic modeling roles"
   ]
  },
  {
   "cell_type": "code",
   "execution_count": 4,
   "metadata": {},
   "outputs": [],
   "source": [
    "y_name = 'high_priced'"
   ]
  },
  {
   "cell_type": "markdown",
   "metadata": {},
   "source": [
    "## Fit interpretable model"
   ]
  },
  {
   "cell_type": "markdown",
   "metadata": {},
   "source": [
    "#### Split data into train and validation partitions "
   ]
  },
  {
   "cell_type": "code",
   "execution_count": 5,
   "metadata": {
    "scrolled": true
   },
   "outputs": [
    {
     "name": "stdout",
     "output_type": "stream",
     "text": [
      "Train data rows = 112253, columns = 23\n",
      "Validation data rows = 48085, columns = 23\n"
     ]
    }
   ],
   "source": [
    "np.random.seed(SEED) # preserve exact reproducibility for this cell\n",
    "\n",
    "split_ratio = 0.7 # 70%/30% train/test split\n",
    "\n",
    "# execute split\n",
    "split = np.random.rand(len(data)) < split_ratio\n",
    "train = data[split]\n",
    "valid = data[~split]\n",
    "\n",
    "# summarize split\n",
    "print('Train data rows = %d, columns = %d' % (train.shape[0], train.shape[1]))\n",
    "print('Validation data rows = %d, columns = %d' % (valid.shape[0], valid.shape[1]))\n",
    "\n",
    "# benchmark - Train data rows = 112253, columns = 23\n",
    "# benchmark - Validation data rows = 48085, columns = 23"
   ]
  },
  {
   "cell_type": "markdown",
   "metadata": {},
   "source": [
    "### Explainable Boosting Machine"
   ]
  },
  {
   "cell_type": "markdown",
   "metadata": {},
   "source": [
    "#### Retrain most accurate model above 0.8 AIR to debug"
   ]
  },
  {
   "cell_type": "code",
   "execution_count": 6,
   "metadata": {},
   "outputs": [
    {
     "name": "stdout",
     "output_type": "stream",
     "text": [
      "Remediated EBM retrained with AUC: 0.7863.\n"
     ]
    }
   ],
   "source": [
    "# params dict for remediated models\n",
    "rem_params = {'max_bins': 512,\n",
    "              'max_interaction_bins': 16,\n",
    "              'interactions': 10,\n",
    "              'outer_bags': 4,\n",
    "              'inner_bags': 0,\n",
    "              'learning_rate': 0.001,\n",
    "              'validation_size': 0.25,\n",
    "              'min_samples_leaf': 5,\n",
    "              'max_leaves': 5,\n",
    "              'early_stopping_rounds': 100.0,\n",
    "              'n_jobs': NTHREAD, \n",
    "              'random_state': SEED}\n",
    "\n",
    "rem_x_names = ['property_value_std',\n",
    "               'no_intro_rate_period_std',\n",
    "               'loan_amount_std',\n",
    "               'income_std',\n",
    "               'conforming',\n",
    "               'intro_rate_period_std',\n",
    "               'debt_to_income_ratio_std',\n",
    "               'term_360']\n",
    "\n",
    "# retrain\n",
    "rem_ebm = ExplainableBoostingClassifier(**rem_params)\n",
    "rem_ebm.fit(train[rem_x_names], train[y_name]) \n",
    "rem_ebm_perf = ROC(rem_ebm.predict_proba).explain_perf(valid[rem_x_names], valid[y_name])\n",
    "rem_auc = rem_ebm_perf._internal_obj['overall']['auc']\n",
    "print('Remediated EBM retrained with AUC: %.4f.' % rem_auc)"
   ]
  },
  {
   "cell_type": "markdown",
   "metadata": {},
   "source": [
    "## Sensitivity Analysis: Stress Testing"
   ]
  },
  {
   "cell_type": "markdown",
   "metadata": {},
   "source": [
    "#### Simulate recession conditions in validation data"
   ]
  },
  {
   "cell_type": "code",
   "execution_count": 7,
   "metadata": {},
   "outputs": [
    {
     "name": "stderr",
     "output_type": "stream",
     "text": [
      "/Users/JaimeSarmiento/opt/anaconda3/lib/python3.8/site-packages/pandas/plotting/_matplotlib/tools.py:307: MatplotlibDeprecationWarning: \n",
      "The rowNum attribute was deprecated in Matplotlib 3.2 and will be removed two minor releases later. Use ax.get_subplotspec().rowspan.start instead.\n",
      "  layout[ax.rowNum, ax.colNum] = ax.get_visible()\n",
      "/Users/JaimeSarmiento/opt/anaconda3/lib/python3.8/site-packages/pandas/plotting/_matplotlib/tools.py:307: MatplotlibDeprecationWarning: \n",
      "The colNum attribute was deprecated in Matplotlib 3.2 and will be removed two minor releases later. Use ax.get_subplotspec().colspan.start instead.\n",
      "  layout[ax.rowNum, ax.colNum] = ax.get_visible()\n",
      "/Users/JaimeSarmiento/opt/anaconda3/lib/python3.8/site-packages/pandas/plotting/_matplotlib/tools.py:313: MatplotlibDeprecationWarning: \n",
      "The rowNum attribute was deprecated in Matplotlib 3.2 and will be removed two minor releases later. Use ax.get_subplotspec().rowspan.start instead.\n",
      "  if not layout[ax.rowNum + 1, ax.colNum]:\n",
      "/Users/JaimeSarmiento/opt/anaconda3/lib/python3.8/site-packages/pandas/plotting/_matplotlib/tools.py:313: MatplotlibDeprecationWarning: \n",
      "The colNum attribute was deprecated in Matplotlib 3.2 and will be removed two minor releases later. Use ax.get_subplotspec().colspan.start instead.\n",
      "  if not layout[ax.rowNum + 1, ax.colNum]:\n"
     ]
    },
    {
     "data": {
      "image/png": "[encoded data removed]",
      "text/plain": [
       "<Figure size 1080x1080 with 9 Axes>"
      ]
     },
     "metadata": {
      "needs_background": "light"
     },
     "output_type": "display_data"
    }
   ],
   "source": [
    "np.random.seed(SEED) # set seed for this cell\n",
    "\n",
    "rec_valid = valid.copy(deep=True) # deep copy of validation data\n",
    "\n",
    "# use severity variable to control how many customers are affected\n",
    "severity = 0.1\n",
    "affected = np.random.rand(len(rec_valid)) < severity\n",
    "\n",
    "# decrease property values by 5%\n",
    "rec_valid.loc[affected, 'property_value_std'] = rec_valid.loc[affected, 'property_value_std'] * 0.95\n",
    "\n",
    "# less intro rates\n",
    "rec_valid.loc[affected, 'no_intro_rate_period_std'] = 0.2443944\n",
    "\n",
    "# lower loan amounts by 5%\n",
    "rec_valid.loc[affected, 'loan_amount_std'] = rec_valid.loc[affected, 'loan_amount_std'] * 0.95\n",
    "\n",
    "# lower income by 5%\n",
    "rec_valid.loc[affected, 'income_std'] = rec_valid.loc[affected, 'income_std'] * 0.95\n",
    "\n",
    "# less conforming loans\n",
    "rec_valid.loc[affected, 'conforming'] = 0\n",
    "\n",
    "# shorter intro rate periods\n",
    "rec_valid.loc[affected, 'loan_amount_std'] = rec_valid.loc[affected, 'loan_amount_std'] * 0.95\n",
    "\n",
    "# 5% higher debt-to-income ratios \n",
    "rec_valid.loc[affected, 'debt_to_income_ratio_std'] = rec_valid.loc[affected, 'debt_to_income_ratio_std'] * 1.05\n",
    "\n",
    "# more long loans\n",
    "rec_valid.loc[affected, 'term_360'] = 1\n",
    "\n",
    "# update target\n",
    "rec_valid.loc[affected, y_name] = np.random.choice(2, len(rec_valid.loc[affected, y_name]))\n",
    "\n",
    "# visualize results\n",
    "_ = rec_valid[rem_x_names + [y_name]].hist(bins=50, figsize=(15, 15))"
   ]
  },
  {
   "cell_type": "markdown",
   "metadata": {},
   "source": [
    "#### Find AUC for best model in simulated recession conditions"
   ]
  },
  {
   "cell_type": "code",
   "execution_count": 8,
   "metadata": {},
   "outputs": [
    {
     "name": "stdout",
     "output_type": "stream",
     "text": [
      "Remediated EBM retrained with AUC: 0.6579.\n"
     ]
    }
   ],
   "source": [
    "rec_rem_ebm_perf = ROC(rem_ebm.predict_proba).explain_perf(rec_valid[rem_x_names], rec_valid[y_name])\n",
    "rec_rem_auc = rec_rem_ebm_perf._internal_obj['overall']['auc']\n",
    "print('Remediated EBM retrained with AUC: %.4f.' % rec_rem_auc)"
   ]
  },
  {
   "cell_type": "markdown",
   "metadata": {},
   "source": [
    "Note the major drop in performance for recession conditions, which is normal for all models and usually worse for complex ML models. It's not unlikely that the more constrained monotonic GBM or penalized GLM could perform better in these conditions. \n",
    "\n",
    "Also, this tells us we need to monitor this model carefully, because when recession conditions begin, this model will fail quickly."
   ]
  },
  {
   "cell_type": "markdown",
   "metadata": {},
   "source": [
    "## Residual Analysis"
   ]
  },
  {
   "cell_type": "markdown",
   "metadata": {},
   "source": [
    "#### Calculate predictions and logloss residuals for all data "
   ]
  },
  {
   "cell_type": "code",
   "execution_count": 9,
   "metadata": {},
   "outputs": [],
   "source": [
    "# shortcut names\n",
    "yhat_name = 'phat'\n",
    "r_name = 'r' \n",
    "\n",
    "# calculate predictions\n",
    "rem_ebm_phat = pd.DataFrame(rem_ebm.predict_proba(data[rem_x_names])[:, 1], columns=['phat']) \n",
    "rem_ebm_phat = pd.concat([data.reset_index(drop=True), rem_ebm_phat], axis=1)\n",
    "\n",
    "# calculate logloss residuals\n",
    "rem_ebm_phat[r_name] = -rem_ebm_phat[y_name]*np.log(rem_ebm_phat[yhat_name]) -\\\n",
    "                       (1 - rem_ebm_phat[y_name])*np.log(1 - rem_ebm_phat[yhat_name])   "
   ]
  },
  {
   "cell_type": "markdown",
   "metadata": {},
   "source": [
    "#### Plot residuals"
   ]
  },
  {
   "cell_type": "code",
   "execution_count": 10,
   "metadata": {},
   "outputs": [
    {
     "data": {
      "image/png": "[encoded data removed]",
      "text/plain": [
       "<Figure size 576x576 with 1 Axes>"
      ]
     },
     "metadata": {
      "needs_background": "light"
     },
     "output_type": "display_data"
    }
   ],
   "source": [
    "# initialize figure\n",
    "fig, ax_ = plt.subplots(figsize=(8, 8))         \n",
    "\n",
    "# plot groups with appropriate color\n",
    "color_list = ['royalblue', 'magenta'] \n",
    "c_idx = 0\n",
    "groups = rem_ebm_phat.groupby(y_name) # define groups for levels of PAY_0\n",
    "for name, group in groups:\n",
    "    ax_.plot(group.phat, group.r, \n",
    "             label=' '.join([y_name, str(name)]),\n",
    "             marker='o', linestyle='', color=color_list[c_idx], alpha=0.3)\n",
    "    c_idx += 1\n",
    "    \n",
    "# annotate plot\n",
    "_ = plt.xlabel(yhat_name)\n",
    "_ = plt.ylabel(r_name)\n",
    "_ = ax_.legend(loc=1)\n",
    "_ = plt.title('Global Logloss Residuals')"
   ]
  },
  {
   "cell_type": "markdown",
   "metadata": {},
   "source": [
    "Residuals are very unbalanced. This model struggles to predict when customers will recieve a high-priced loan correctly. It does much better when predicting customers will NOT receive a high-priced loan. There are also some very noticable outliers."
   ]
  },
  {
   "cell_type": "markdown",
   "metadata": {},
   "source": [
    "## Remediation: Remove Outliers"
   ]
  },
  {
   "cell_type": "markdown",
   "metadata": {},
   "source": [
    "#### Find outliers"
   ]
  },
  {
   "cell_type": "code",
   "execution_count": 11,
   "metadata": {},
   "outputs": [
    {
     "data": {
      "text/html": [
       "<div>\n",
       "<style scoped>\n",
       "    .dataframe tbody tr th:only-of-type {\n",
       "        vertical-align: middle;\n",
       "    }\n",
       "\n",
       "    .dataframe tbody tr th {\n",
       "        vertical-align: top;\n",
       "    }\n",
       "\n",
       "    .dataframe thead th {\n",
       "        text-align: right;\n",
       "    }\n",
       "</style>\n",
       "<table border=\"1\" class=\"dataframe\">\n",
       "  <thead>\n",
       "    <tr style=\"text-align: right;\">\n",
       "      <th></th>\n",
       "      <th>row_id</th>\n",
       "      <th>black</th>\n",
       "      <th>asian</th>\n",
       "      <th>white</th>\n",
       "      <th>amind</th>\n",
       "      <th>hipac</th>\n",
       "      <th>hispanic</th>\n",
       "      <th>non_hispanic</th>\n",
       "      <th>male</th>\n",
       "      <th>female</th>\n",
       "      <th>...</th>\n",
       "      <th>loan_amount_std</th>\n",
       "      <th>loan_to_value_ratio_std</th>\n",
       "      <th>no_intro_rate_period_std</th>\n",
       "      <th>intro_rate_period_std</th>\n",
       "      <th>property_value_std</th>\n",
       "      <th>income_std</th>\n",
       "      <th>debt_to_income_ratio_std</th>\n",
       "      <th>high_priced</th>\n",
       "      <th>phat</th>\n",
       "      <th>r</th>\n",
       "    </tr>\n",
       "  </thead>\n",
       "  <tbody>\n",
       "    <tr>\n",
       "      <th>82041</th>\n",
       "      <td>82041</td>\n",
       "      <td>0.0</td>\n",
       "      <td>0.0</td>\n",
       "      <td>1.0</td>\n",
       "      <td>0.0</td>\n",
       "      <td>0.0</td>\n",
       "      <td>0.0</td>\n",
       "      <td>1.0</td>\n",
       "      <td>NaN</td>\n",
       "      <td>NaN</td>\n",
       "      <td>...</td>\n",
       "      <td>-0.954117</td>\n",
       "      <td>-2.973067</td>\n",
       "      <td>0.244394</td>\n",
       "      <td>-0.215304</td>\n",
       "      <td>0.697459</td>\n",
       "      <td>-0.052781</td>\n",
       "      <td>-0.425131</td>\n",
       "      <td>1</td>\n",
       "      <td>0.000270</td>\n",
       "      <td>8.216428</td>\n",
       "    </tr>\n",
       "    <tr>\n",
       "      <th>110822</th>\n",
       "      <td>110822</td>\n",
       "      <td>0.0</td>\n",
       "      <td>1.0</td>\n",
       "      <td>0.0</td>\n",
       "      <td>0.0</td>\n",
       "      <td>0.0</td>\n",
       "      <td>0.0</td>\n",
       "      <td>1.0</td>\n",
       "      <td>0.0</td>\n",
       "      <td>1.0</td>\n",
       "      <td>...</td>\n",
       "      <td>0.892723</td>\n",
       "      <td>-0.874794</td>\n",
       "      <td>0.244394</td>\n",
       "      <td>-0.215304</td>\n",
       "      <td>1.252485</td>\n",
       "      <td>-0.007738</td>\n",
       "      <td>-1.156406</td>\n",
       "      <td>1</td>\n",
       "      <td>0.001118</td>\n",
       "      <td>6.795930</td>\n",
       "    </tr>\n",
       "    <tr>\n",
       "      <th>83113</th>\n",
       "      <td>83113</td>\n",
       "      <td>0.0</td>\n",
       "      <td>0.0</td>\n",
       "      <td>1.0</td>\n",
       "      <td>0.0</td>\n",
       "      <td>0.0</td>\n",
       "      <td>1.0</td>\n",
       "      <td>0.0</td>\n",
       "      <td>1.0</td>\n",
       "      <td>0.0</td>\n",
       "      <td>...</td>\n",
       "      <td>0.760806</td>\n",
       "      <td>-0.277030</td>\n",
       "      <td>0.244394</td>\n",
       "      <td>-0.215304</td>\n",
       "      <td>0.697459</td>\n",
       "      <td>0.017208</td>\n",
       "      <td>-0.059493</td>\n",
       "      <td>1</td>\n",
       "      <td>0.001149</td>\n",
       "      <td>6.769069</td>\n",
       "    </tr>\n",
       "    <tr>\n",
       "      <th>128930</th>\n",
       "      <td>128930</td>\n",
       "      <td>0.0</td>\n",
       "      <td>0.0</td>\n",
       "      <td>1.0</td>\n",
       "      <td>0.0</td>\n",
       "      <td>0.0</td>\n",
       "      <td>0.0</td>\n",
       "      <td>1.0</td>\n",
       "      <td>1.0</td>\n",
       "      <td>0.0</td>\n",
       "      <td>...</td>\n",
       "      <td>-1.130006</td>\n",
       "      <td>-3.257582</td>\n",
       "      <td>0.244394</td>\n",
       "      <td>-0.215304</td>\n",
       "      <td>0.759128</td>\n",
       "      <td>0.008893</td>\n",
       "      <td>0.854601</td>\n",
       "      <td>1</td>\n",
       "      <td>0.001608</td>\n",
       "      <td>6.433062</td>\n",
       "    </tr>\n",
       "    <tr>\n",
       "      <th>2650</th>\n",
       "      <td>2650</td>\n",
       "      <td>0.0</td>\n",
       "      <td>0.0</td>\n",
       "      <td>1.0</td>\n",
       "      <td>0.0</td>\n",
       "      <td>0.0</td>\n",
       "      <td>0.0</td>\n",
       "      <td>1.0</td>\n",
       "      <td>0.0</td>\n",
       "      <td>1.0</td>\n",
       "      <td>...</td>\n",
       "      <td>1.948060</td>\n",
       "      <td>-0.442940</td>\n",
       "      <td>0.244394</td>\n",
       "      <td>-0.215304</td>\n",
       "      <td>1.900015</td>\n",
       "      <td>-0.052781</td>\n",
       "      <td>-2.527547</td>\n",
       "      <td>1</td>\n",
       "      <td>0.002263</td>\n",
       "      <td>6.091081</td>\n",
       "    </tr>\n",
       "  </tbody>\n",
       "</table>\n",
       "<p>5 rows × 25 columns</p>\n",
       "</div>"
      ],
      "text/plain": [
       "        row_id  black  asian  white  amind  hipac  hispanic  non_hispanic  \\\n",
       "82041    82041    0.0    0.0    1.0    0.0    0.0       0.0           1.0   \n",
       "110822  110822    0.0    1.0    0.0    0.0    0.0       0.0           1.0   \n",
       "83113    83113    0.0    0.0    1.0    0.0    0.0       1.0           0.0   \n",
       "128930  128930    0.0    0.0    1.0    0.0    0.0       0.0           1.0   \n",
       "2650      2650    0.0    0.0    1.0    0.0    0.0       0.0           1.0   \n",
       "\n",
       "        male  female  ...  loan_amount_std  loan_to_value_ratio_std  \\\n",
       "82041    NaN     NaN  ...        -0.954117                -2.973067   \n",
       "110822   0.0     1.0  ...         0.892723                -0.874794   \n",
       "83113    1.0     0.0  ...         0.760806                -0.277030   \n",
       "128930   1.0     0.0  ...        -1.130006                -3.257582   \n",
       "2650     0.0     1.0  ...         1.948060                -0.442940   \n",
       "\n",
       "        no_intro_rate_period_std  intro_rate_period_std  property_value_std  \\\n",
       "82041                   0.244394              -0.215304            0.697459   \n",
       "110822                  0.244394              -0.215304            1.252485   \n",
       "83113                   0.244394              -0.215304            0.697459   \n",
       "128930                  0.244394              -0.215304            0.759128   \n",
       "2650                    0.244394              -0.215304            1.900015   \n",
       "\n",
       "        income_std  debt_to_income_ratio_std  high_priced      phat         r  \n",
       "82041    -0.052781                 -0.425131            1  0.000270  8.216428  \n",
       "110822   -0.007738                 -1.156406            1  0.001118  6.795930  \n",
       "83113     0.017208                 -0.059493            1  0.001149  6.769069  \n",
       "128930    0.008893                  0.854601            1  0.001608  6.433062  \n",
       "2650     -0.052781                 -2.527547            1  0.002263  6.091081  \n",
       "\n",
       "[5 rows x 25 columns]"
      ]
     },
     "execution_count": 11,
     "metadata": {},
     "output_type": "execute_result"
    }
   ],
   "source": [
    "rem_ebm_phat.sort_values(by='r', ascending=False).head()"
   ]
  },
  {
   "cell_type": "markdown",
   "metadata": {},
   "source": [
    "#### Remove worst outliers"
   ]
  },
  {
   "cell_type": "code",
   "execution_count": 12,
   "metadata": {},
   "outputs": [],
   "source": [
    "n_remove = 10\n",
    "rem_data = data.copy(deep=True)\n",
    "rem_data.drop(list(rem_ebm_phat.sort_values(by='r', ascending=False).head(n=n_remove).index), axis=0, inplace=True)"
   ]
  },
  {
   "cell_type": "markdown",
   "metadata": {},
   "source": [
    "## Remediation: Down-sample to Increase Signal from High-priced Loans"
   ]
  },
  {
   "cell_type": "code",
   "execution_count": 13,
   "metadata": {},
   "outputs": [],
   "source": [
    "inverse_proportion_remove = 2 # corresponds to keeping 1 - (1/inverse_proportion_remove) rows\n",
    "rem_data.drop(list(rem_data[rem_data[y_name] == 0].index)[::inverse_proportion_remove], axis=0, inplace=True)"
   ]
  },
  {
   "cell_type": "markdown",
   "metadata": {},
   "source": [
    "#### Retrain remediated EBM"
   ]
  },
  {
   "cell_type": "code",
   "execution_count": 14,
   "metadata": {},
   "outputs": [
    {
     "name": "stdout",
     "output_type": "stream",
     "text": [
      "Remediated train data rows = 61518, columns = 23\n",
      "Remediated validation data rows = 26393, columns = 23\n",
      "Remediated EBM under-sampled AUC: 0.7917.\n"
     ]
    }
   ],
   "source": [
    "np.random.seed(SEED) # preserve exact reproducibility for this cell\n",
    "\n",
    "# execute split\n",
    "split = np.random.rand(len(rem_data)) < split_ratio\n",
    "rem_train = rem_data[split]\n",
    "rem_valid = rem_data[~split]\n",
    "\n",
    "# summarize split\n",
    "print('Remediated train data rows = %d, columns = %d' % (rem_train.shape[0], rem_train.shape[1]))\n",
    "print('Remediated validation data rows = %d, columns = %d' % (rem_valid.shape[0], rem_valid.shape[1]))\n",
    "\n",
    "# retrain\n",
    "rem_ebm2 = ExplainableBoostingClassifier(**rem_params)\n",
    "rem_ebm2.fit(rem_train[rem_x_names], rem_train[y_name]) \n",
    "rem_ebm_perf2 = ROC(rem_ebm2.predict_proba).explain_perf(rem_valid[rem_x_names], rem_valid[y_name])\n",
    "rem_auc2 = rem_ebm_perf2._internal_obj['overall']['auc']\n",
    "print('Remediated EBM under-sampled AUC: %.4f.' % rem_auc2)"
   ]
  },
  {
   "cell_type": "markdown",
   "metadata": {},
   "source": [
    "#### Test remediated EBM on true validation data"
   ]
  },
  {
   "cell_type": "code",
   "execution_count": 15,
   "metadata": {},
   "outputs": [
    {
     "name": "stdout",
     "output_type": "stream",
     "text": [
      "Remediated EBM true AUC: 0.7953.\n"
     ]
    }
   ],
   "source": [
    "# calculate predictions\n",
    "rem_ebm_phat2 = pd.DataFrame(rem_ebm.predict_proba(valid[rem_x_names])[:, 1], columns=['phat']) \n",
    "rem_ebm_phat2 = pd.concat([valid.reset_index(drop=True), rem_ebm_phat2], axis=1)\n",
    "rem_ebm_perf3 = ROC(rem_ebm2.predict_proba).explain_perf(valid[rem_x_names], valid[y_name])\n",
    "rem_auc3 = rem_ebm_perf3._internal_obj['overall']['auc']\n",
    "print('Remediated EBM true AUC: %.4f.' % rem_auc3) "
   ]
  },
  {
   "cell_type": "markdown",
   "metadata": {},
   "source": [
    "Dropping outliers and under-sampling increases true AUC!"
   ]
  },
  {
   "cell_type": "markdown",
   "metadata": {},
   "source": [
    "#### End global timer"
   ]
  },
  {
   "cell_type": "code",
   "execution_count": 16,
   "metadata": {},
   "outputs": [
    {
     "name": "stdout",
     "output_type": "stream",
     "text": [
      "All tasks completed in 365.51 s.\n"
     ]
    }
   ],
   "source": [
    "toc = time.time() - tic\n",
    "print('All tasks completed in %.2f s.' % (toc))"
   ]
  }
 ],
 "metadata": {
  "kernelspec": {
   "display_name": "Python 3",
   "language": "python",
   "name": "python3"
  },
  "language_info": {
   "codemirror_mode": {
    "name": "ipython",
    "version": 3
   },
   "file_extension": ".py",
   "mimetype": "text/x-python",
   "name": "python",
   "nbconvert_exporter": "python",
   "pygments_lexer": "ipython3",
   "version": "3.8.5"
  }
 },
 "nbformat": 4,
 "nbformat_minor": 5
}
